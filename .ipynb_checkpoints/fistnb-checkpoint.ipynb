{
 "cells": [
  {
   "cell_type": "code",
   "execution_count": null,
   "metadata": {},
   "outputs": [
    {
     "name": "stdout",
     "output_type": "stream",
     "text": [
      "PORT       PROTOCOL          IP         ACTION    \n",
      "44           any         0.0.0.0/0      allow     \n",
      "55           any         0.0.0.0/0      deny      \n",
      "66           any         0.0.0.0/0      reject    \n",
      "77:88        udp         0.0.0.0/0      allow     \n",
      "22           any      192.168.56.0/24   allow     \n",
      "1. Add Port Allow\n",
      "2. Exit\n"
     ]
    },
    {
     "name": "stdin",
     "output_type": "stream",
     "text": [
      "What is your choice:  1\n",
      "Which port:  23\n",
      "Which protocol(any, tcp, udp):  any\n"
     ]
    },
    {
     "name": "stdout",
     "output_type": "stream",
     "text": [
      "PORT       PROTOCOL          IP         ACTION    \n",
      "44           any         0.0.0.0/0      allow     \n",
      "55           any         0.0.0.0/0      deny      \n",
      "66           any         0.0.0.0/0      reject    \n",
      "77:88        udp         0.0.0.0/0      allow     \n",
      "22           any      192.168.56.0/24   allow     \n",
      "any           23          0/0/0/0       allow     \n",
      "1. Add Port Allow\n",
      "2. Exit\n"
     ]
    }
   ],
   "source": [
    "def list_rules():\n",
    "    print('{0:10}{1:^10}{2:^20}{3:10}'.format(\"PORT\", \"PROTOCOL\", \"IP\", \"ACTION\"))\n",
    "    with open(\"deneme\") as f:\n",
    "        data = f.read()\n",
    "    for line in data.split(\"\\n\"):\n",
    "        if \"tuple\" in line:\n",
    "            rule = line[14:].split()\n",
    "            print('{0:10}{1:^10}{2:^20}{3:10}'.format(rule[2], rule[1], rule[5], rule[0]))\n",
    "    print(\"1. Add Port Allow\\n2. Exit\")\n",
    "\n",
    "selection = 0                \n",
    "while (True):\n",
    "    list_rules()\n",
    "    selection=int(input(\"What is your choice: \"))\n",
    "    if(selection==1):\n",
    "        port=int(input(\"Which port: \"))\n",
    "        protocol=input(\"Which protocol(any, tcp, udp): \")\n",
    "        with open(\"deneme\", \"a\") as f:\n",
    "            f.write(f'### tuple ### allow {protocol} {port} 0.0.0.0/0 any 0/0/0/0 in\\n')\n",
    "    else:\n",
    "        break"
   ]
  },
  {
   "cell_type": "raw",
   "metadata": {},
   "source": [
    "allow any 44 0.0.0.0/0 any 0.0.0.0/0 in"
   ]
  },
  {
   "cell_type": "raw",
   "metadata": {},
   "source": [
    "PORT       PROTOCOL          IP         ACTION    \n",
    "44           any         0.0.0.0/0      allow     \n",
    "55           any         0.0.0.0/0      deny      \n",
    "66           any         0.0.0.0/0      reject    \n",
    "77:88        udp         0.0.0.0/0      allow     \n",
    "22           any      192.168.56.0/24   allow     "
   ]
  },
  {
   "cell_type": "code",
   "execution_count": null,
   "metadata": {},
   "outputs": [],
   "source": []
  },
  {
   "cell_type": "code",
   "execution_count": null,
   "metadata": {},
   "outputs": [],
   "source": []
  }
 ],
 "metadata": {
  "kernelspec": {
   "display_name": "Python 3",
   "language": "python",
   "name": "python3"
  },
  "language_info": {
   "codemirror_mode": {
    "name": "ipython",
    "version": 3
   },
   "file_extension": ".py",
   "mimetype": "text/x-python",
   "name": "python",
   "nbconvert_exporter": "python",
   "pygments_lexer": "ipython3",
   "version": "3.7.6"
  }
 },
 "nbformat": 4,
 "nbformat_minor": 4
}
